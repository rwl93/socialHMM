{
 "cells": [
  {
   "cell_type": "markdown",
   "metadata": {},
   "source": [
    "# Forward Propagation through HMM Timeseries\n",
    "Randy Linderman  \n",
    "Nov. 4, 2017\n",
    "## Overview:\n",
    "This notebook will create a function to execute the forward propagation step of the HMM. The program will be tested with random distributions. The notation and algorithms are adapted from Chapter 9: Hidden Markov Models of Speech and Language Processing. Daniel Jurafsky & James H. Martin. Copyright 2016. Draft of August 7, 2017. https://web.stanford.edu/~jurafsky/slp3/9.pdf\n",
    "  \n",
    "Forward Algorithm Equations:\n",
    "\\begin{eqnarray}  \n",
    "P(O|Q) &=& \\prod_{i=1}^T P(o_i|q_i) \\\\\n",
    "P(O,Q) &=& P(O|Q)\\times P(Q) = \\prod_{i=1}^T P(o_i|q_i)\\times \\prod_{i=1}^T P(q_i|q_{i-1})\n",
    "\\end{eqnarray}"
   ]
  },
  {
   "cell_type": "code",
   "execution_count": 154,
   "metadata": {
    "collapsed": true
   },
   "outputs": [],
   "source": [
    "import numpy as np\n",
    "import matplotlib.pyplot as plt\n"
   ]
  },
  {
   "cell_type": "code",
   "execution_count": 155,
   "metadata": {
    "collapsed": true
   },
   "outputs": [],
   "source": [
    "%matplotlib inline"
   ]
  },
  {
   "cell_type": "code",
   "execution_count": 156,
   "metadata": {
    "collapsed": false
   },
   "outputs": [
    {
     "data": {
      "image/png": "[encoded data removed]",
      "text/plain": [
       "<matplotlib.figure.Figure at 0xb125550>"
      ]
     },
     "metadata": {},
     "output_type": "display_data"
    },
    {
     "data": {
      "image/png": "[encoded data removed]",
      "text/plain": [
       "<matplotlib.figure.Figure at 0xb7e1ac8>"
      ]
     },
     "metadata": {},
     "output_type": "display_data"
    }
   ],
   "source": [
    "# Initialize dummy probability matrices A (Transition Probability Matrix) and B (Observation Likelihoods, Emission Probabilities)\n",
    "# let N = number of hidden states = 10\n",
    "# let M = number of observation states = 3\n",
    "N = 10\n",
    "M = 3\n",
    "\n",
    "\n",
    "# Define A size(N+2, N+2); N.B.: A(0,0)=0, A(0,-1) = 0 (must have at least 1 observation), A(i, 0) = 0 & A((N+2)-1, i) = 0 for all 0 < i < N+2\n",
    "mu, sigma = 0.25, 0.05\n",
    "A = np.random.normal(mu,sigma,(N+2,N+2))\n",
    "A[:,0] *= 0\n",
    "A[-1,:] *= 0\n",
    "A[0,-1] *= 0\n",
    "# print A\n",
    "plt.hist(A.reshape((-1)))\n",
    "plt.show()\n",
    "\n",
    "B = np.random.normal(mu,sigma, (N, M)) # N hidden states by M observation states\n",
    "# print B\n",
    "plt.hist(B.reshape((-1)))\n",
    "plt.show()\n",
    "\n",
    "theta = [A,B,N]\n",
    "#print theta\n",
    "#print theta[1]"
   ]
  },
  {
   "cell_type": "code",
   "execution_count": 157,
   "metadata": {
    "collapsed": false
   },
   "outputs": [],
   "source": [
    "def Forward(O, theta):\n",
    "    A = theta[0]\n",
    "    B = theta[1]\n",
    "    N = theta[2]\n",
    "    forward = np.zeros((N+2,len(O)+1))\n",
    "    #alpha(state s, time t+1)\n",
    "    \n",
    "    # Initialization step\n",
    "    for s in xrange(N):\n",
    "        forward[s+1,0] = A[0,s+1]*B[s, O[0]]\n",
    "    \n",
    "    # Recursion Step\n",
    "    for t in xrange(1,len(O)):\n",
    "        for s in xrange(N):\n",
    "            for sp in xrange(N):\n",
    "                forward[s+1,t] += forward[sp+1,t-1]*A[sp+1,s]*B[s,O[t]]\n",
    "    \n",
    "    # Termination step\n",
    "    for s in xrange(N):\n",
    "        forward[-1,len(O)] += forward[s+1,len(O)-1]*A[s+1,-1]\n",
    "    \n",
    "    return forward[-1,len(O)]"
   ]
  },
  {
   "cell_type": "code",
   "execution_count": 158,
   "metadata": {
    "collapsed": false
   },
   "outputs": [
    {
     "name": "stdout",
     "output_type": "stream",
     "text": [
      "0.0149280023372\n"
     ]
    }
   ],
   "source": [
    "print Forward([0,2,1,1,2],theta)"
   ]
  },
  {
   "cell_type": "code",
   "execution_count": 159,
   "metadata": {
    "collapsed": false
   },
   "outputs": [],
   "source": [
    "def Viterbi(O, theta):\n",
    "    A = theta[0]\n",
    "    B = theta[1]\n",
    "    N = theta[2]\n",
    "    viterbi = np.zeros((N+2,len(O)+1))\n",
    "    backpointer = []\n",
    "    #alpha(state s, time t+1)\n",
    "    \n",
    "    # Initialization step\n",
    "    for s in xrange(N):\n",
    "        viterbi[s+1,0] = A[0,s+1]*B[s, O[0]]\n",
    "    #backpointer.append(-1)\n",
    "    \n",
    "    # Recursion Step\n",
    "    for t in xrange(1,len(O)):\n",
    "        backpointer.append(-1)\n",
    "        for s in xrange(N):\n",
    "            for sp in xrange(N):\n",
    "                if viterbi[s+1,t] < viterbi[sp+1,t-1]*A[sp+1,s]*B[s,O[t]]:\n",
    "                    viterbi[s+1,t] = viterbi[sp+1,t-1]*A[sp+1,s]*B[s,O[t]]\n",
    "                    backpointer[-1] = sp+1\n",
    "                    \n",
    "    # Termination step\n",
    "    backpointer.append(-1)\n",
    "    for s in xrange(N):\n",
    "        if viterbi[-1,len(O)] < viterbi[s+1,len(O)-1]*A[s+1,-1]:\n",
    "            viterbi[-1,len(O)] = viterbi[s+1,len(O)-1]*A[s+1,-1]\n",
    "            backpointer[-1] = s+1\n",
    "    \n",
    "    return backpointer"
   ]
  },
  {
   "cell_type": "code",
   "execution_count": 160,
   "metadata": {
    "collapsed": false
   },
   "outputs": [
    {
     "name": "stdout",
     "output_type": "stream",
     "text": [
      "[8, 8, 8, 8, 2]\n"
     ]
    }
   ],
   "source": [
    "print Viterbi([0,2,1,1,2],theta)"
   ]
  }
 ],
 "metadata": {
  "kernelspec": {
   "display_name": "Python 2",
   "language": "python",
   "name": "python2"
  },
  "language_info": {
   "codemirror_mode": {
    "name": "ipython",
    "version": 2
   },
   "file_extension": ".py",
   "mimetype": "text/x-python",
   "name": "python",
   "nbconvert_exporter": "python",
   "pygments_lexer": "ipython2",
   "version": "2.7.11"
  }
 },
 "nbformat": 4,
 "nbformat_minor": 0
}
